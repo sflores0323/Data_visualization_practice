{
 "cells": [
  {
   "cell_type": "code",
   "execution_count": 27,
   "metadata": {},
   "outputs": [],
   "source": [
    "import numpy as np\n",
    "import pandas as pd\n",
    "\n",
    "import matplotlib as mpl\n",
    "import matplotlib.pyplot as plt\n",
    "\n",
    "%matplotlib inline"
   ]
  },
  {
   "cell_type": "code",
   "execution_count": 36,
   "metadata": {},
   "outputs": [],
   "source": [
    "covid_data = pd.read_csv('https://raw.githubusercontent.com/nytimes/covid-19-data/master/us-states.csv')"
   ]
  },
  {
   "cell_type": "code",
   "execution_count": 37,
   "metadata": {},
   "outputs": [
    {
     "data": {
      "text/html": [
       "<div>\n",
       "<style scoped>\n",
       "    .dataframe tbody tr th:only-of-type {\n",
       "        vertical-align: middle;\n",
       "    }\n",
       "\n",
       "    .dataframe tbody tr th {\n",
       "        vertical-align: top;\n",
       "    }\n",
       "\n",
       "    .dataframe thead th {\n",
       "        text-align: right;\n",
       "    }\n",
       "</style>\n",
       "<table border=\"1\" class=\"dataframe\">\n",
       "  <thead>\n",
       "    <tr style=\"text-align: right;\">\n",
       "      <th></th>\n",
       "      <th>date</th>\n",
       "      <th>state</th>\n",
       "      <th>fips</th>\n",
       "      <th>cases</th>\n",
       "      <th>deaths</th>\n",
       "    </tr>\n",
       "  </thead>\n",
       "  <tbody>\n",
       "    <tr>\n",
       "      <th>0</th>\n",
       "      <td>2020-01-21</td>\n",
       "      <td>Washington</td>\n",
       "      <td>53</td>\n",
       "      <td>1</td>\n",
       "      <td>0</td>\n",
       "    </tr>\n",
       "    <tr>\n",
       "      <th>1</th>\n",
       "      <td>2020-01-22</td>\n",
       "      <td>Washington</td>\n",
       "      <td>53</td>\n",
       "      <td>1</td>\n",
       "      <td>0</td>\n",
       "    </tr>\n",
       "    <tr>\n",
       "      <th>2</th>\n",
       "      <td>2020-01-23</td>\n",
       "      <td>Washington</td>\n",
       "      <td>53</td>\n",
       "      <td>1</td>\n",
       "      <td>0</td>\n",
       "    </tr>\n",
       "    <tr>\n",
       "      <th>3</th>\n",
       "      <td>2020-01-24</td>\n",
       "      <td>Illinois</td>\n",
       "      <td>17</td>\n",
       "      <td>1</td>\n",
       "      <td>0</td>\n",
       "    </tr>\n",
       "    <tr>\n",
       "      <th>4</th>\n",
       "      <td>2020-01-24</td>\n",
       "      <td>Washington</td>\n",
       "      <td>53</td>\n",
       "      <td>1</td>\n",
       "      <td>0</td>\n",
       "    </tr>\n",
       "  </tbody>\n",
       "</table>\n",
       "</div>"
      ],
      "text/plain": [
       "         date       state  fips  cases  deaths\n",
       "0  2020-01-21  Washington    53      1       0\n",
       "1  2020-01-22  Washington    53      1       0\n",
       "2  2020-01-23  Washington    53      1       0\n",
       "3  2020-01-24    Illinois    17      1       0\n",
       "4  2020-01-24  Washington    53      1       0"
      ]
     },
     "execution_count": 37,
     "metadata": {},
     "output_type": "execute_result"
    }
   ],
   "source": [
    "covid_data.head()"
   ]
  },
  {
   "cell_type": "code",
   "execution_count": 38,
   "metadata": {},
   "outputs": [
    {
     "data": {
      "text/plain": [
       "0       2020-01-21\n",
       "1       2020-01-22\n",
       "2       2020-01-23\n",
       "3       2020-01-24\n",
       "4       2020-01-24\n",
       "           ...    \n",
       "11999   2020-10-06\n",
       "12000   2020-10-06\n",
       "12001   2020-10-06\n",
       "12002   2020-10-06\n",
       "12003   2020-10-06\n",
       "Name: date, Length: 12004, dtype: datetime64[ns]"
      ]
     },
     "execution_count": 38,
     "metadata": {},
     "output_type": "execute_result"
    }
   ],
   "source": [
    "pd.to_datetime(covid_data['date'])"
   ]
  },
  {
   "cell_type": "code",
   "execution_count": 39,
   "metadata": {},
   "outputs": [],
   "source": [
    "cov_data_sort = covid_data.sort_values(['state','date'])"
   ]
  },
  {
   "cell_type": "code",
   "execution_count": 40,
   "metadata": {},
   "outputs": [],
   "source": [
    "cov_data_sort['del_cases'] = cov_data_sort['cases'].diff()\n",
    "cov_data_sort['del_deaths'] = cov_data_sort['deaths'].diff()\n"
   ]
  },
  {
   "cell_type": "code",
   "execution_count": 41,
   "metadata": {},
   "outputs": [
    {
     "data": {
      "text/html": [
       "<div>\n",
       "<style scoped>\n",
       "    .dataframe tbody tr th:only-of-type {\n",
       "        vertical-align: middle;\n",
       "    }\n",
       "\n",
       "    .dataframe tbody tr th {\n",
       "        vertical-align: top;\n",
       "    }\n",
       "\n",
       "    .dataframe thead th {\n",
       "        text-align: right;\n",
       "    }\n",
       "</style>\n",
       "<table border=\"1\" class=\"dataframe\">\n",
       "  <thead>\n",
       "    <tr style=\"text-align: right;\">\n",
       "      <th></th>\n",
       "      <th>date</th>\n",
       "      <th>state</th>\n",
       "      <th>fips</th>\n",
       "      <th>cases</th>\n",
       "      <th>deaths</th>\n",
       "      <th>del_cases</th>\n",
       "      <th>del_deaths</th>\n",
       "    </tr>\n",
       "  </thead>\n",
       "  <tbody>\n",
       "    <tr>\n",
       "      <th>586</th>\n",
       "      <td>2020-03-13</td>\n",
       "      <td>Alabama</td>\n",
       "      <td>1</td>\n",
       "      <td>6</td>\n",
       "      <td>0</td>\n",
       "      <td>NaN</td>\n",
       "      <td>NaN</td>\n",
       "    </tr>\n",
       "    <tr>\n",
       "      <th>637</th>\n",
       "      <td>2020-03-14</td>\n",
       "      <td>Alabama</td>\n",
       "      <td>1</td>\n",
       "      <td>12</td>\n",
       "      <td>0</td>\n",
       "      <td>6.0</td>\n",
       "      <td>0.0</td>\n",
       "    </tr>\n",
       "    <tr>\n",
       "      <th>689</th>\n",
       "      <td>2020-03-15</td>\n",
       "      <td>Alabama</td>\n",
       "      <td>1</td>\n",
       "      <td>23</td>\n",
       "      <td>0</td>\n",
       "      <td>11.0</td>\n",
       "      <td>0.0</td>\n",
       "    </tr>\n",
       "    <tr>\n",
       "      <th>742</th>\n",
       "      <td>2020-03-16</td>\n",
       "      <td>Alabama</td>\n",
       "      <td>1</td>\n",
       "      <td>29</td>\n",
       "      <td>0</td>\n",
       "      <td>6.0</td>\n",
       "      <td>0.0</td>\n",
       "    </tr>\n",
       "    <tr>\n",
       "      <th>795</th>\n",
       "      <td>2020-03-17</td>\n",
       "      <td>Alabama</td>\n",
       "      <td>1</td>\n",
       "      <td>39</td>\n",
       "      <td>0</td>\n",
       "      <td>10.0</td>\n",
       "      <td>0.0</td>\n",
       "    </tr>\n",
       "  </tbody>\n",
       "</table>\n",
       "</div>"
      ],
      "text/plain": [
       "           date    state  fips  cases  deaths  del_cases  del_deaths\n",
       "586  2020-03-13  Alabama     1      6       0        NaN         NaN\n",
       "637  2020-03-14  Alabama     1     12       0        6.0         0.0\n",
       "689  2020-03-15  Alabama     1     23       0       11.0         0.0\n",
       "742  2020-03-16  Alabama     1     29       0        6.0         0.0\n",
       "795  2020-03-17  Alabama     1     39       0       10.0         0.0"
      ]
     },
     "execution_count": 41,
     "metadata": {},
     "output_type": "execute_result"
    }
   ],
   "source": [
    "cov_data_sort.head()"
   ]
  },
  {
   "cell_type": "code",
   "execution_count": null,
   "metadata": {},
   "outputs": [],
   "source": []
  },
  {
   "cell_type": "code",
   "execution_count": 43,
   "metadata": {},
   "outputs": [],
   "source": [
    "# looping through each unique state\n",
    "for st in cov_data_sort.state.unique():\n",
    "    \n",
    "    # creating the data frame filtered to a single state\n",
    "    plot_data = cov_data_sort[cov_data_sort['state']==st]\n",
    "    \n",
    "    # which data will be plotted\n",
    "    x = plot_data['date']\n",
    "    y1 = plot_data['del_cases'].rolling(7,min_periods=1,center=True).mean()  # 7-day moving average\n",
    "    y2 = plot_data['del_cases']\n",
    "    y3 = plot_data['del_deaths'].rolling(7,min_periods=1,center=True).mean() # 7-day moving average\n",
    "    y4 = plot_data['del_deaths']\n",
    "    \n",
    "    \n",
    "    # creating the subplot with 1 axis    \n",
    "    fig, ax1 = plt.subplots(figsize=(45,7))\n",
    "    \n",
    "    # formatting the first y-axis and x-axis\n",
    "    ax1.set_title(f'{st} Covid Cases and Deaths', fontsize=25)\n",
    "    ax1.set_xlabel('Date', fontsize=20)\n",
    "    ax1.set_ylabel('Daily Cases', color='blue', fontsize=20)\n",
    "    plt.xticks(rotation=45,ha='right')\n",
    "    ax1.set_ylim(0,y2.max())\n",
    "    \n",
    "    ax1.spines['left'].set_color('blue')\n",
    "    ax1.tick_params(axis='y', colors='blue')\n",
    "    ax1.legend(['Cases: 7-day Average'],loc='upper left')\n",
    "    \n",
    "    # plots the first y-axis data\n",
    "    ax1.plot(x, y1, color='blue')\n",
    "    ax1.bar(x, y2, color='blue', alpha=.3)\n",
    "      \n",
    "    # creating the 2nd y-axis with an x-axis shared with the first y-axis\n",
    "    ax2 = ax1.twinx()    \n",
    "    \n",
    "    # formatting the second y-axis\n",
    "    ax2.set_ylabel('Daily Deaths', color='red', fontsize=20)\n",
    "    ax2.set_ylim(0,y3.max()*3)\n",
    "        \n",
    "    ax2.spines['right'].set_color('red')\n",
    "    ax2.tick_params(axis='y', colors='red')\n",
    "    ax2.legend(['Deaths: 7-day Average'],loc='upper right')\n",
    "    \n",
    "    # plots the second y-axis data\n",
    "    ax2.plot(x, y3, color='red')\n",
    "    ax2.bar(x, y4, color='indianred')\n",
    "                \n",
    "    plt.grid(True)\n",
    "    \n",
    "    #plt.show()\n",
    "    plt.savefig(f\"state_covid_plots\\{st}_Covid_Data.png\")\n",
    "    \n",
    "    plt.close()\n",
    "    "
   ]
  }
 ],
 "metadata": {
  "kernelspec": {
   "display_name": "Python 3",
   "language": "python",
   "name": "python3"
  },
  "language_info": {
   "codemirror_mode": {
    "name": "ipython",
    "version": 3
   },
   "file_extension": ".py",
   "mimetype": "text/x-python",
   "name": "python",
   "nbconvert_exporter": "python",
   "pygments_lexer": "ipython3",
   "version": "3.8.3"
  }
 },
 "nbformat": 4,
 "nbformat_minor": 4
}
